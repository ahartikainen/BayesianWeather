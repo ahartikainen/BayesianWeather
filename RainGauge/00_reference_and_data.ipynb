{
 "cells": [
  {
   "cell_type": "markdown",
   "metadata": {},
   "source": [
    "## FMI Weather station measurements\n",
    "\n",
    "Measurements were done overnight between 24.-25.7.2020.\n",
    "\n",
    "Espoo, Nuuksio, <15 km from the measurement location  \n",
    "Espoo, Tapiola, <15 km from the measurement location  \n",
    "https://www.ilmatieteenlaitos.fi/havaintojen-lataus"
   ]
  },
  {
   "cell_type": "code",
   "execution_count": 1,
   "metadata": {},
   "outputs": [],
   "source": [
    "import pandas as pd\n",
    "import numpy as np"
   ]
  },
  {
   "cell_type": "code",
   "execution_count": 2,
   "metadata": {},
   "outputs": [],
   "source": [
    "files = [\n",
    "    \"FMI_DATA/FMI_weather_data_24_25_7_2020_Espoo_Nuuksio.csv\",\n",
    "    \"FMI_DATA/FMI_weather_data_24_25_7_2020_Espoo_Tapiola.csv\",\n",
    "]"
   ]
  },
  {
   "cell_type": "code",
   "execution_count": 3,
   "metadata": {},
   "outputs": [],
   "source": [
    "dataframes = []\n",
    "for filepath in files:\n",
    "    with open(filepath, \"rb\") as f:\n",
    "        dataframe = pd.read_csv(f)\n",
    "        dataframe[\"location\"] = filepath.split(\".\")[0].split(\"_\")[-1]\n",
    "        dataframes.append(dataframe)\n",
    "\n",
    "dataframe = pd.concat(dataframes, axis=0)"
   ]
  },
  {
   "cell_type": "code",
   "execution_count": 4,
   "metadata": {},
   "outputs": [],
   "source": [
    "def to_datetime(df):\n",
    "    df = df.rename(columns={\n",
    "        \"Vuosi\" : \"year\", \n",
    "        \"Kk\" : \"month\", \n",
    "        \"Pv\" : \"day\", \n",
    "        \"Klo\" : \"time\"\n",
    "    })\n",
    "    df[[\"hour\", \"minutes\"]] = df[\"time\"].apply(lambda x: pd.Series(\n",
    "        x.split(\":\"), index=[\"hour\", \"minutes\"]\n",
    "    ))\n",
    "    datetime = pd.to_datetime(df[\n",
    "        [\"year\", \"month\", \"day\", \"hour\", \"minutes\"]\n",
    "    ])\n",
    "    return datetime.dt.tz_localize(\"utc\").dt.tz_convert(\"Europe/Helsinki\")"
   ]
  },
  {
   "cell_type": "code",
   "execution_count": 5,
   "metadata": {},
   "outputs": [],
   "source": [
    "dataframe[\"datetime\"] = to_datetime(dataframe)"
   ]
  },
  {
   "cell_type": "code",
   "execution_count": 6,
   "metadata": {},
   "outputs": [],
   "source": [
    "overnight_slicer = (\n",
    "    dataframe.datetime > pd.Timestamp(\"2020-07-24 19:00\", tz=\"Europe/Helsinki\")) & (\n",
    "    dataframe.datetime < pd.Timestamp(\"2020-07-25 13:00\", tz=\"Europe/Helsinki\")\n",
    ")"
   ]
  },
  {
   "cell_type": "code",
   "execution_count": 7,
   "metadata": {},
   "outputs": [],
   "source": [
    "dataframe_overnight = dataframe[overnight_slicer]"
   ]
  },
  {
   "cell_type": "code",
   "execution_count": 8,
   "metadata": {},
   "outputs": [],
   "source": [
    "precipitation = dataframe_overnight.groupby(\"location\")[\"Sateen intensiteetti (mm/h)\"].apply(lambda x: (x/6).sum())"
   ]
  },
  {
   "cell_type": "code",
   "execution_count": 9,
   "metadata": {},
   "outputs": [
    {
     "data": {
      "text/plain": [
       "location\n",
       "Nuuksio    1.350000\n",
       "Tapiola    4.066667\n",
       "Name: Sateen intensiteetti (mm/h), dtype: float64"
      ]
     },
     "execution_count": 9,
     "metadata": {},
     "output_type": "execute_result"
    }
   ],
   "source": [
    "precipitation"
   ]
  },
  {
   "cell_type": "code",
   "execution_count": 10,
   "metadata": {},
   "outputs": [
    {
     "name": "stdout",
     "output_type": "stream",
     "text": [
      "Precipitation\n",
      "    Nuuksio: 1.35 mm\n",
      "    Tapiola: 4.07 mm\n"
     ]
    }
   ],
   "source": [
    "print(\"Precipitation\")\n",
    "for location, result in precipitation.iteritems():\n",
    "    print(f\"    {location}: {result:.2f} mm\")"
   ]
  },
  {
   "cell_type": "code",
   "execution_count": 11,
   "metadata": {},
   "outputs": [],
   "source": [
    "precipitation.index.name = None\n",
    "precipitation.name = \"Precipitation overnight (mm)\""
   ]
  },
  {
   "cell_type": "code",
   "execution_count": 12,
   "metadata": {},
   "outputs": [],
   "source": [
    "precipitation.to_csv(\"FMI_DATA/precipitation.csv\", header=True)"
   ]
  },
  {
   "cell_type": "markdown",
   "metadata": {},
   "source": [
    "# Measurement Data"
   ]
  },
  {
   "cell_type": "markdown",
   "metadata": {},
   "source": [
    "Similar measurements are i.i.d which means that different measurements should not be paired.\n",
    "Number of measurements between the differents objecs (blue, yellow or water, no-water) can differ,\n",
    "but are the same in this example."
   ]
  },
  {
   "cell_type": "markdown",
   "metadata": {},
   "source": [
    "## Weights (in grams)"
   ]
  },
  {
   "cell_type": "code",
   "execution_count": 13,
   "metadata": {},
   "outputs": [],
   "source": [
    "weight_bucket = pd.DataFrame.from_dict({\n",
    "    \"blue\" : [127, 128, 128],\n",
    "    \"yellow\" : [129, 129, 128],\n",
    "})\n",
    "weight_bucket_water = pd.DataFrame.from_dict({\n",
    "    \"blue\" : [170, 169, 169],\n",
    "    \"yellow\" : [168, 169, 168],\n",
    "})"
   ]
  },
  {
   "cell_type": "code",
   "execution_count": 14,
   "metadata": {},
   "outputs": [
    {
     "data": {
      "text/html": [
       "<div>\n",
       "<style scoped>\n",
       "    .dataframe tbody tr th:only-of-type {\n",
       "        vertical-align: middle;\n",
       "    }\n",
       "\n",
       "    .dataframe tbody tr th {\n",
       "        vertical-align: top;\n",
       "    }\n",
       "\n",
       "    .dataframe thead th {\n",
       "        text-align: right;\n",
       "    }\n",
       "</style>\n",
       "<table border=\"1\" class=\"dataframe\">\n",
       "  <thead>\n",
       "    <tr style=\"text-align: right;\">\n",
       "      <th></th>\n",
       "      <th>blue</th>\n",
       "      <th>yellow</th>\n",
       "    </tr>\n",
       "  </thead>\n",
       "  <tbody>\n",
       "    <tr>\n",
       "      <th>0</th>\n",
       "      <td>127</td>\n",
       "      <td>129</td>\n",
       "    </tr>\n",
       "    <tr>\n",
       "      <th>1</th>\n",
       "      <td>128</td>\n",
       "      <td>129</td>\n",
       "    </tr>\n",
       "    <tr>\n",
       "      <th>2</th>\n",
       "      <td>128</td>\n",
       "      <td>128</td>\n",
       "    </tr>\n",
       "  </tbody>\n",
       "</table>\n",
       "</div>"
      ],
      "text/plain": [
       "   blue  yellow\n",
       "0   127     129\n",
       "1   128     129\n",
       "2   128     128"
      ]
     },
     "execution_count": 14,
     "metadata": {},
     "output_type": "execute_result"
    }
   ],
   "source": [
    "weight_bucket"
   ]
  },
  {
   "cell_type": "code",
   "execution_count": 15,
   "metadata": {},
   "outputs": [
    {
     "data": {
      "text/html": [
       "<div>\n",
       "<style scoped>\n",
       "    .dataframe tbody tr th:only-of-type {\n",
       "        vertical-align: middle;\n",
       "    }\n",
       "\n",
       "    .dataframe tbody tr th {\n",
       "        vertical-align: top;\n",
       "    }\n",
       "\n",
       "    .dataframe thead th {\n",
       "        text-align: right;\n",
       "    }\n",
       "</style>\n",
       "<table border=\"1\" class=\"dataframe\">\n",
       "  <thead>\n",
       "    <tr style=\"text-align: right;\">\n",
       "      <th></th>\n",
       "      <th>blue</th>\n",
       "      <th>yellow</th>\n",
       "    </tr>\n",
       "  </thead>\n",
       "  <tbody>\n",
       "    <tr>\n",
       "      <th>0</th>\n",
       "      <td>170</td>\n",
       "      <td>168</td>\n",
       "    </tr>\n",
       "    <tr>\n",
       "      <th>1</th>\n",
       "      <td>169</td>\n",
       "      <td>169</td>\n",
       "    </tr>\n",
       "    <tr>\n",
       "      <th>2</th>\n",
       "      <td>169</td>\n",
       "      <td>168</td>\n",
       "    </tr>\n",
       "  </tbody>\n",
       "</table>\n",
       "</div>"
      ],
      "text/plain": [
       "   blue  yellow\n",
       "0   170     168\n",
       "1   169     169\n",
       "2   169     168"
      ]
     },
     "execution_count": 15,
     "metadata": {},
     "output_type": "execute_result"
    }
   ],
   "source": [
    "weight_bucket_water"
   ]
  },
  {
   "cell_type": "markdown",
   "metadata": {},
   "source": [
    "# Lengths (in centimeters)"
   ]
  },
  {
   "cell_type": "markdown",
   "metadata": {},
   "source": [
    "## Geometry"
   ]
  },
  {
   "cell_type": "code",
   "execution_count": 16,
   "metadata": {},
   "outputs": [],
   "source": [
    "from helper_functions import create_geometry"
   ]
  },
  {
   "cell_type": "code",
   "execution_count": 17,
   "metadata": {},
   "outputs": [
    {
     "data": {
      "image/png": "[encoded data removed]",
      "text/plain": [
       "<Figure size 360x360 with 1 Axes>"
      ]
     },
     "metadata": {
      "needs_background": "light"
     },
     "output_type": "display_data"
    }
   ],
   "source": [
    "create_geometry()"
   ]
  },
  {
   "cell_type": "code",
   "execution_count": 18,
   "metadata": {},
   "outputs": [],
   "source": [
    "# outer diameter\n",
    "diameter_bucket = pd.DataFrame.from_dict({\n",
    "    \"blue\" : np.array([14.8-1.0]),\n",
    "    \"yellow\" : np.array([15.0-1.0]),\n",
    "})\n",
    "\n",
    "radius_bucket = diameter_bucket / 2\n",
    "\n",
    "# inner wedge length (yellow dots)\n",
    "wedge_bucket_inner = pd.DataFrame.from_dict({\n",
    "    \"blue\" : np.array([6.0]),\n",
    "    \"yellow\" : np.array([6.0])\n",
    "})\n",
    "\n",
    "# inner wedge length (red dots)\n",
    "wedge_bucket_outer = pd.DataFrame.from_dict({\n",
    "    \"blue\" : np.array([3.0]),\n",
    "    \"yellow\" : np.array([3.0])\n",
    "})\n",
    "\n",
    "# inner wedge length (cyan dots)\n",
    "wedge_bucket_lenght = pd.DataFrame.from_dict({\n",
    "    \"blue\" : np.array([4.0]),\n",
    "    \"yellow\" : np.array([4.0])\n",
    "})"
   ]
  },
  {
   "cell_type": "markdown",
   "metadata": {},
   "source": [
    "# External data"
   ]
  },
  {
   "cell_type": "code",
   "execution_count": 19,
   "metadata": {},
   "outputs": [],
   "source": [
    "# temp 15degC\n",
    "density_water = 999 # kg / m^3"
   ]
  },
  {
   "cell_type": "code",
   "execution_count": 20,
   "metadata": {},
   "outputs": [],
   "source": [
    "import pickle"
   ]
  },
  {
   "cell_type": "code",
   "execution_count": 22,
   "metadata": {},
   "outputs": [],
   "source": [
    "with open(\"DATA/measurement_data.pickle\", \"wb\") as f:\n",
    "    pickle.dump({\n",
    "        \"weight_bucket\" : weight_bucket,\n",
    "        \"weight_bucket_water\" : weight_bucket_water,\n",
    "        \"diameter\" : diameter_bucket,\n",
    "        \"radius\" : radius_bucket,\n",
    "        \"wedge_outer\" : wedge_bucket_outer,\n",
    "        \"wedge_inner\" : wedge_bucket_inner,\n",
    "        \"wedge_length\" : wedge_bucket_lenght,\n",
    "        \"density_water\" : density_water,\n",
    "    }, file=f)"
   ]
  },
  {
   "cell_type": "code",
   "execution_count": null,
   "metadata": {},
   "outputs": [],
   "source": []
  }
 ],
 "metadata": {
  "kernelspec": {
   "display_name": "Python 3",
   "language": "python",
   "name": "python3"
  },
  "language_info": {
   "codemirror_mode": {
    "name": "ipython",
    "version": 3
   },
   "file_extension": ".py",
   "mimetype": "text/x-python",
   "name": "python",
   "nbconvert_exporter": "python",
   "pygments_lexer": "ipython3",
   "version": "3.7.3"
  }
 },
 "nbformat": 4,
 "nbformat_minor": 4
}
