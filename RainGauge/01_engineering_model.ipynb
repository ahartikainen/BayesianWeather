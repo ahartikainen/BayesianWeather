{
 "cells": [
  {
   "cell_type": "markdown",
   "metadata": {},
   "source": [
    "# Precipitation measurements\n",
    "\n",
    "Example of homemade rain gauge precipitation measurements with the help of kids toy-buckets and some bayesian mathematics.\n",
    "\n",
    "See https://en.wikipedia.org/wiki/Rain_gauge\n",
    "\n",
    "Measurements were done overnight between 24.-25.7.2020.\n",
    "\n",
    "## Weather station measurements\n",
    "Espoo, Nuuksio, <15 km from the measurement location  \n",
    "Espoo, Tapiola, <15 km from the measurement location  \n",
    "https://www.ilmatieteenlaitos.fi/havaintojen-lataus\n",
    "\n",
    "## Problem definition\n",
    "\n",
    "The aim is to estimate precipitation based on simple measurement setup.\n",
    "Two buckets (blue and yellow) were left outside overnight to gather rain precipitation.\n",
    "The diameter of the bucket was measured a few times with a tape measure.\n",
    "At the morning next day, the buckets were weighted with and without the precipitated water.\n",
    "Scale was tared between the measurements and the buckets were placed approximately center.\n",
    "\n",
    "Scale used for the weighting has approximately absolute accuracy of +/- 2 grams and the result is rounded to the closest 1 gram.\n",
    "Tape measure results were inferred from the photograph and are given +/- 2 centimeter accuracy."
   ]
  },
  {
   "cell_type": "code",
   "execution_count": 1,
   "metadata": {},
   "outputs": [],
   "source": [
    "import numpy as np\n",
    "import pandas as pd"
   ]
  },
  {
   "cell_type": "markdown",
   "metadata": {},
   "source": [
    "## FMI Measurement data"
   ]
  },
  {
   "cell_type": "code",
   "execution_count": 2,
   "metadata": {},
   "outputs": [
    {
     "data": {
      "text/html": [
       "<div>\n",
       "<style scoped>\n",
       "    .dataframe tbody tr th:only-of-type {\n",
       "        vertical-align: middle;\n",
       "    }\n",
       "\n",
       "    .dataframe tbody tr th {\n",
       "        vertical-align: top;\n",
       "    }\n",
       "\n",
       "    .dataframe thead th {\n",
       "        text-align: right;\n",
       "    }\n",
       "</style>\n",
       "<table border=\"1\" class=\"dataframe\">\n",
       "  <thead>\n",
       "    <tr style=\"text-align: right;\">\n",
       "      <th></th>\n",
       "      <th>Precipitation overnight (mm)</th>\n",
       "    </tr>\n",
       "  </thead>\n",
       "  <tbody>\n",
       "    <tr>\n",
       "      <th>Nuuksio</th>\n",
       "      <td>1.350000</td>\n",
       "    </tr>\n",
       "    <tr>\n",
       "      <th>Tapiola</th>\n",
       "      <td>4.066667</td>\n",
       "    </tr>\n",
       "  </tbody>\n",
       "</table>\n",
       "</div>"
      ],
      "text/plain": [
       "         Precipitation overnight (mm)\n",
       "Nuuksio                      1.350000\n",
       "Tapiola                      4.066667"
      ]
     },
     "execution_count": 2,
     "metadata": {},
     "output_type": "execute_result"
    }
   ],
   "source": [
    "fmi_data = pd.read_csv(\"./FMI_DATA/precipitation.csv\", index_col=0)\n",
    "fmi_data"
   ]
  },
  {
   "cell_type": "markdown",
   "metadata": {},
   "source": [
    "# Data"
   ]
  },
  {
   "cell_type": "code",
   "execution_count": 3,
   "metadata": {},
   "outputs": [],
   "source": [
    "import pickle"
   ]
  },
  {
   "cell_type": "code",
   "execution_count": 4,
   "metadata": {},
   "outputs": [],
   "source": [
    "with open(\"DATA/measurement_data.pickle\", \"rb\") as f:\n",
    "    data = pickle.load(f)"
   ]
  },
  {
   "cell_type": "code",
   "execution_count": 5,
   "metadata": {},
   "outputs": [
    {
     "data": {
      "text/plain": [
       "dict_keys(['weight_bucket', 'weigth_bucket_water', 'diameter', 'radius', 'wedge_outer', 'wedge_inner', 'wedge_length', 'density_water'])"
      ]
     },
     "execution_count": 5,
     "metadata": {},
     "output_type": "execute_result"
    }
   ],
   "source": [
    "data.keys()"
   ]
  },
  {
   "cell_type": "markdown",
   "metadata": {},
   "source": [
    "# Engineering approximation --> mean it is"
   ]
  },
  {
   "cell_type": "code",
   "execution_count": 6,
   "metadata": {},
   "outputs": [],
   "source": [
    "from helper_functions import calculate_bucket_area"
   ]
  },
  {
   "cell_type": "code",
   "execution_count": 7,
   "metadata": {},
   "outputs": [
    {
     "data": {
      "text/plain": [
       "blue      0.020834\n",
       "yellow    0.021341\n",
       "dtype: float64"
      ]
     },
     "execution_count": 7,
     "metadata": {},
     "output_type": "execute_result"
    }
   ],
   "source": [
    "area = calculate_bucket_area(\n",
    "    data[\"radius\"].mean(),\n",
    "    data[\"wedge_inner\"].mean(),\n",
    "    data[\"wedge_outer\"].mean(),\n",
    "    data[\"wedge_length\"].mean(),\n",
    ")\n",
    "area"
   ]
  },
  {
   "cell_type": "code",
   "execution_count": 8,
   "metadata": {},
   "outputs": [
    {
     "data": {
      "text/plain": [
       "blue      41.666667\n",
       "yellow    39.666667\n",
       "dtype: float64"
      ]
     },
     "execution_count": 8,
     "metadata": {},
     "output_type": "execute_result"
    }
   ],
   "source": [
    "weight_water = data[\"weigth_bucket_water\"].mean() - data[\"weight_bucket\"].mean()\n",
    "weight_water"
   ]
  },
  {
   "cell_type": "code",
   "execution_count": 9,
   "metadata": {},
   "outputs": [
    {
     "data": {
      "text/plain": [
       "blue      0.041708\n",
       "yellow    0.039706\n",
       "dtype: float64"
      ]
     },
     "execution_count": 9,
     "metadata": {},
     "output_type": "execute_result"
    }
   ],
   "source": [
    "# (grams/1000) / density_water * 1000 --> grams / density_water\n",
    "volume_water_litre = weight_water / data[\"density_water\"]\n",
    "volume_water_litre"
   ]
  },
  {
   "cell_type": "code",
   "execution_count": 10,
   "metadata": {},
   "outputs": [
    {
     "data": {
      "text/plain": [
       "blue      2.001923\n",
       "yellow    1.860596\n",
       "dtype: float64"
      ]
     },
     "execution_count": 10,
     "metadata": {},
     "output_type": "execute_result"
    }
   ],
   "source": [
    "precipitation = volume_water_litre / area\n",
    "precipitation"
   ]
  },
  {
   "cell_type": "code",
   "execution_count": 11,
   "metadata": {},
   "outputs": [
    {
     "name": "stdout",
     "output_type": "stream",
     "text": [
      "Precipitation: 1.93 mm\n"
     ]
    }
   ],
   "source": [
    "print(f\"Precipitation: {precipitation.mean():.2f} mm\")"
   ]
  }
 ],
 "metadata": {
  "kernelspec": {
   "display_name": "Python 3",
   "language": "python",
   "name": "python3"
  },
  "language_info": {
   "codemirror_mode": {
    "name": "ipython",
    "version": 3
   },
   "file_extension": ".py",
   "mimetype": "text/x-python",
   "name": "python",
   "nbconvert_exporter": "python",
   "pygments_lexer": "ipython3",
   "version": "3.7.3"
  }
 },
 "nbformat": 4,
 "nbformat_minor": 4
}
