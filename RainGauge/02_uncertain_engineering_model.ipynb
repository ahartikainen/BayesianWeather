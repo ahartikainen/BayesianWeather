{
 "cells": [
  {
   "cell_type": "markdown",
   "metadata": {},
   "source": [
    "# Precipitation measurements\n",
    "\n",
    "Example of homemade rain gauge precipitation measurements with the help of kids toy-buckets and some bayesian mathematics.\n",
    "\n",
    "See https://en.wikipedia.org/wiki/Rain_gauge\n",
    "\n",
    "Measurements were done overnight between 24.-25.7.2020.\n",
    "\n",
    "## Weather station measurements\n",
    "Espoo, Nuuksio, <15 km from the measurement location  \n",
    "Espoo, Tapiola, <15 km from the measurement location  \n",
    "https://www.ilmatieteenlaitos.fi/havaintojen-lataus\n",
    "\n",
    "## Problem definition\n",
    "\n",
    "The aim is to estimate precipitation based on simple measurement setup.\n",
    "Two buckets (blue and yellow) were left outside overnight to gather rain precipitation.\n",
    "The diameter of the bucket was measured a few times with a tape measure.\n",
    "At the morning next day, the buckets were weighted with and without the precipitated water.\n",
    "Scale was tared between the measurements and the buckets were placed approximately center.\n",
    "\n",
    "Scale used for the weighting has approximately absolute accuracy of +/- 2 grams and the result is rounded to the closest 1 gram.\n",
    "Tape measure results were inferred from the photograph and are given +/- 2 centimeter accuracy."
   ]
  },
  {
   "cell_type": "code",
   "execution_count": 1,
   "metadata": {},
   "outputs": [],
   "source": [
    "import numpy as np\n",
    "import pandas as pd"
   ]
  },
  {
   "cell_type": "markdown",
   "metadata": {},
   "source": [
    "## FMI Measurement data"
   ]
  },
  {
   "cell_type": "code",
   "execution_count": 2,
   "metadata": {},
   "outputs": [
    {
     "data": {
      "text/html": [
       "<div>\n",
       "<style scoped>\n",
       "    .dataframe tbody tr th:only-of-type {\n",
       "        vertical-align: middle;\n",
       "    }\n",
       "\n",
       "    .dataframe tbody tr th {\n",
       "        vertical-align: top;\n",
       "    }\n",
       "\n",
       "    .dataframe thead th {\n",
       "        text-align: right;\n",
       "    }\n",
       "</style>\n",
       "<table border=\"1\" class=\"dataframe\">\n",
       "  <thead>\n",
       "    <tr style=\"text-align: right;\">\n",
       "      <th></th>\n",
       "      <th>Precipitation overnight (mm)</th>\n",
       "    </tr>\n",
       "  </thead>\n",
       "  <tbody>\n",
       "    <tr>\n",
       "      <th>Nuuksio</th>\n",
       "      <td>1.350000</td>\n",
       "    </tr>\n",
       "    <tr>\n",
       "      <th>Tapiola</th>\n",
       "      <td>4.066667</td>\n",
       "    </tr>\n",
       "  </tbody>\n",
       "</table>\n",
       "</div>"
      ],
      "text/plain": [
       "         Precipitation overnight (mm)\n",
       "Nuuksio                      1.350000\n",
       "Tapiola                      4.066667"
      ]
     },
     "execution_count": 2,
     "metadata": {},
     "output_type": "execute_result"
    }
   ],
   "source": [
    "fmi_data = pd.read_csv(\"./FMI_DATA/precipitation.csv\", index_col=0)\n",
    "fmi_data"
   ]
  },
  {
   "cell_type": "markdown",
   "metadata": {},
   "source": [
    "# Data"
   ]
  },
  {
   "cell_type": "code",
   "execution_count": 3,
   "metadata": {},
   "outputs": [],
   "source": [
    "import pickle"
   ]
  },
  {
   "cell_type": "code",
   "execution_count": 4,
   "metadata": {},
   "outputs": [],
   "source": [
    "with open(\"DATA/measurement_data.pickle\", \"rb\") as f:\n",
    "    data = pickle.load(f)"
   ]
  },
  {
   "cell_type": "code",
   "execution_count": 5,
   "metadata": {},
   "outputs": [
    {
     "data": {
      "text/plain": [
       "dict_keys(['weight_bucket', 'weight_bucket_water', 'diameter', 'radius', 'wedge_outer', 'wedge_inner', 'wedge_length', 'density_water'])"
      ]
     },
     "execution_count": 5,
     "metadata": {},
     "output_type": "execute_result"
    }
   ],
   "source": [
    "data.keys()"
   ]
  },
  {
   "cell_type": "markdown",
   "metadata": {},
   "source": [
    "# Engineering approximation with uncertainty --> normal models it is"
   ]
  },
  {
   "cell_type": "code",
   "execution_count": 6,
   "metadata": {},
   "outputs": [],
   "source": [
    "from upandas import separate_to_u, u_to_separate"
   ]
  },
  {
   "cell_type": "code",
   "execution_count": 7,
   "metadata": {},
   "outputs": [],
   "source": [
    "def add_uncertainty(df, ufunc, inplace=True):\n",
    "    udf = df.applymap(ufunc).rename(columns={key : f\"u_{key}\" for key in df.columns})\n",
    "    if inplace:\n",
    "        df[udf.columns] = udf\n",
    "        return\n",
    "    return udf"
   ]
  },
  {
   "cell_type": "code",
   "execution_count": 8,
   "metadata": {},
   "outputs": [],
   "source": [
    "# Let's add error for measurements\n",
    "# weights --> sqrt(2)\n",
    "# distances --> sqrt(2)\n",
    "\n",
    "for key in ['weight_bucket', 'weight_bucket_water']:\n",
    "    add_uncertainty(data[key], lambda x: 2**0.5)\n",
    "    \n",
    "\n",
    "for key in ['diameter', 'wedge_outer', 'wedge_inner', 'wedge_length']:\n",
    "    add_uncertainty(data[key], lambda x: 2**0.5)"
   ]
  },
  {
   "cell_type": "code",
   "execution_count": 9,
   "metadata": {},
   "outputs": [],
   "source": [
    "udata = {key : separate_to_u(data[key]) for key in ['weight_bucket', 'weight_bucket_water', 'diameter', 'wedge_outer', 'wedge_inner', 'wedge_length']}"
   ]
  },
  {
   "cell_type": "code",
   "execution_count": 10,
   "metadata": {},
   "outputs": [],
   "source": [
    "udata[\"radius\"] = udata[\"diameter\"] / 2"
   ]
  },
  {
   "cell_type": "code",
   "execution_count": 11,
   "metadata": {},
   "outputs": [],
   "source": [
    "from helper_functions import calculate_bucket_area_uncertain"
   ]
  },
  {
   "cell_type": "code",
   "execution_count": 12,
   "metadata": {},
   "outputs": [
    {
     "data": {
      "text/plain": [
       "blue      0.021+/-0.004\n",
       "yellow    0.021+/-0.004\n",
       "dtype: object"
      ]
     },
     "execution_count": 12,
     "metadata": {},
     "output_type": "execute_result"
    }
   ],
   "source": [
    "area = calculate_bucket_area_uncertain(\n",
    "    udata[\"radius\"].apply(lambda x: sum(x)/len(x)),\n",
    "    udata[\"wedge_inner\"].apply(lambda x: sum(x)/len(x)),\n",
    "    udata[\"wedge_outer\"].apply(lambda x: sum(x)/len(x)),\n",
    "    udata[\"wedge_length\"].apply(lambda x: sum(x)/len(x)),\n",
    ")\n",
    "area"
   ]
  },
  {
   "cell_type": "code",
   "execution_count": 13,
   "metadata": {},
   "outputs": [
    {
     "data": {
      "text/plain": [
       "blue      41.7+/-1.2\n",
       "yellow    39.7+/-1.2\n",
       "dtype: object"
      ]
     },
     "execution_count": 13,
     "metadata": {},
     "output_type": "execute_result"
    }
   ],
   "source": [
    "weight_water = udata[\"weight_bucket_water\"].apply(lambda x: sum(x)/len(x)) - udata[\"weight_bucket\"].apply(lambda x: sum(x)/len(x))\n",
    "weight_water"
   ]
  },
  {
   "cell_type": "code",
   "execution_count": 14,
   "metadata": {},
   "outputs": [
    {
     "data": {
      "text/plain": [
       "blue      0.0417+/-0.0012\n",
       "yellow    0.0397+/-0.0012\n",
       "dtype: object"
      ]
     },
     "execution_count": 14,
     "metadata": {},
     "output_type": "execute_result"
    }
   ],
   "source": [
    "# (grams/1000) / density_water * 1000 --> grams / density_water\n",
    "volume_water_litre = weight_water / data[\"density_water\"]\n",
    "volume_water_litre"
   ]
  },
  {
   "cell_type": "code",
   "execution_count": 15,
   "metadata": {},
   "outputs": [
    {
     "data": {
      "text/plain": [
       "blue        2.0+/-0.4\n",
       "yellow    1.86+/-0.34\n",
       "dtype: object"
      ]
     },
     "execution_count": 15,
     "metadata": {},
     "output_type": "execute_result"
    }
   ],
   "source": [
    "precipitation = volume_water_litre / area\n",
    "precipitation"
   ]
  },
  {
   "cell_type": "code",
   "execution_count": 16,
   "metadata": {},
   "outputs": [],
   "source": [
    "mean_precipitation =  precipitation.values.sum() / len(precipitation.values)"
   ]
  },
  {
   "cell_type": "code",
   "execution_count": 17,
   "metadata": {},
   "outputs": [
    {
     "name": "stdout",
     "output_type": "stream",
     "text": [
      "Precipitation: 1.93+/-0.25 mm\n"
     ]
    }
   ],
   "source": [
    "print(f\"Precipitation: {mean_precipitation:.2f} mm\")"
   ]
  },
  {
   "cell_type": "code",
   "execution_count": 18,
   "metadata": {},
   "outputs": [],
   "source": [
    "from uncertainties import correlation_matrix, covariance_matrix"
   ]
  },
  {
   "cell_type": "code",
   "execution_count": 19,
   "metadata": {},
   "outputs": [
    {
     "data": {
      "text/html": [
       "<div>\n",
       "<style scoped>\n",
       "    .dataframe tbody tr th:only-of-type {\n",
       "        vertical-align: middle;\n",
       "    }\n",
       "\n",
       "    .dataframe tbody tr th {\n",
       "        vertical-align: top;\n",
       "    }\n",
       "\n",
       "    .dataframe thead th {\n",
       "        text-align: right;\n",
       "    }\n",
       "</style>\n",
       "<table border=\"1\" class=\"dataframe\">\n",
       "  <thead>\n",
       "    <tr style=\"text-align: right;\">\n",
       "      <th></th>\n",
       "      <th>mean_precipitation</th>\n",
       "      <th>weight_water blue</th>\n",
       "      <th>weight_water yellow</th>\n",
       "      <th>area blue</th>\n",
       "      <th>area yellow</th>\n",
       "    </tr>\n",
       "  </thead>\n",
       "  <tbody>\n",
       "    <tr>\n",
       "      <th>mean_precipitation</th>\n",
       "      <td>1.000000</td>\n",
       "      <td>0.110223</td>\n",
       "      <td>0.107607</td>\n",
       "      <td>-0.727809</td>\n",
       "      <td>-0.668256</td>\n",
       "    </tr>\n",
       "    <tr>\n",
       "      <th>weight_water blue</th>\n",
       "      <td>0.110223</td>\n",
       "      <td>1.000000</td>\n",
       "      <td>0.000000</td>\n",
       "      <td>0.000000</td>\n",
       "      <td>0.000000</td>\n",
       "    </tr>\n",
       "    <tr>\n",
       "      <th>weight_water yellow</th>\n",
       "      <td>0.107607</td>\n",
       "      <td>0.000000</td>\n",
       "      <td>1.000000</td>\n",
       "      <td>0.000000</td>\n",
       "      <td>0.000000</td>\n",
       "    </tr>\n",
       "    <tr>\n",
       "      <th>area blue</th>\n",
       "      <td>-0.727809</td>\n",
       "      <td>0.000000</td>\n",
       "      <td>0.000000</td>\n",
       "      <td>1.000000</td>\n",
       "      <td>0.000000</td>\n",
       "    </tr>\n",
       "    <tr>\n",
       "      <th>area yellow</th>\n",
       "      <td>-0.668256</td>\n",
       "      <td>0.000000</td>\n",
       "      <td>0.000000</td>\n",
       "      <td>0.000000</td>\n",
       "      <td>1.000000</td>\n",
       "    </tr>\n",
       "  </tbody>\n",
       "</table>\n",
       "</div>"
      ],
      "text/plain": [
       "                     mean_precipitation  weight_water blue  \\\n",
       "mean_precipitation             1.000000           0.110223   \n",
       "weight_water blue              0.110223           1.000000   \n",
       "weight_water yellow            0.107607           0.000000   \n",
       "area blue                     -0.727809           0.000000   \n",
       "area yellow                   -0.668256           0.000000   \n",
       "\n",
       "                     weight_water yellow  area blue  area yellow  \n",
       "mean_precipitation              0.107607  -0.727809    -0.668256  \n",
       "weight_water blue               0.000000   0.000000     0.000000  \n",
       "weight_water yellow             1.000000   0.000000     0.000000  \n",
       "area blue                       0.000000   1.000000     0.000000  \n",
       "area yellow                     0.000000   0.000000     1.000000  "
      ]
     },
     "execution_count": 19,
     "metadata": {},
     "output_type": "execute_result"
    }
   ],
   "source": [
    "names = [\"mean_precipitation\", *[f\"weight_water {k}\" for k in weight_water.index], *[f\"area {k}\" for k in area.index]]\n",
    "pd.DataFrame(correlation_matrix([mean_precipitation, *list(weight_water.values), *list(area)]), index=names, columns=names)"
   ]
  },
  {
   "cell_type": "code",
   "execution_count": 20,
   "metadata": {},
   "outputs": [
    {
     "data": {
      "text/html": [
       "<div>\n",
       "<style scoped>\n",
       "    .dataframe tbody tr th:only-of-type {\n",
       "        vertical-align: middle;\n",
       "    }\n",
       "\n",
       "    .dataframe tbody tr th {\n",
       "        vertical-align: top;\n",
       "    }\n",
       "\n",
       "    .dataframe thead th {\n",
       "        text-align: right;\n",
       "    }\n",
       "</style>\n",
       "<table border=\"1\" class=\"dataframe\">\n",
       "  <thead>\n",
       "    <tr style=\"text-align: right;\">\n",
       "      <th></th>\n",
       "      <th>mean_precipitation</th>\n",
       "      <th>weight_water blue</th>\n",
       "      <th>weight_water yellow</th>\n",
       "      <th>area blue</th>\n",
       "      <th>area yellow</th>\n",
       "    </tr>\n",
       "  </thead>\n",
       "  <tbody>\n",
       "    <tr>\n",
       "      <th>mean_precipitation</th>\n",
       "      <td>0.063336</td>\n",
       "      <td>0.032031</td>\n",
       "      <td>0.031271</td>\n",
       "      <td>-0.000698</td>\n",
       "      <td>-0.000649</td>\n",
       "    </tr>\n",
       "    <tr>\n",
       "      <th>weight_water blue</th>\n",
       "      <td>0.032031</td>\n",
       "      <td>1.333333</td>\n",
       "      <td>0.000000</td>\n",
       "      <td>0.000000</td>\n",
       "      <td>0.000000</td>\n",
       "    </tr>\n",
       "    <tr>\n",
       "      <th>weight_water yellow</th>\n",
       "      <td>0.031271</td>\n",
       "      <td>0.000000</td>\n",
       "      <td>1.333333</td>\n",
       "      <td>0.000000</td>\n",
       "      <td>0.000000</td>\n",
       "    </tr>\n",
       "    <tr>\n",
       "      <th>area blue</th>\n",
       "      <td>-0.000698</td>\n",
       "      <td>0.000000</td>\n",
       "      <td>0.000000</td>\n",
       "      <td>0.000015</td>\n",
       "      <td>0.000000</td>\n",
       "    </tr>\n",
       "    <tr>\n",
       "      <th>area yellow</th>\n",
       "      <td>-0.000649</td>\n",
       "      <td>0.000000</td>\n",
       "      <td>0.000000</td>\n",
       "      <td>0.000000</td>\n",
       "      <td>0.000015</td>\n",
       "    </tr>\n",
       "  </tbody>\n",
       "</table>\n",
       "</div>"
      ],
      "text/plain": [
       "                     mean_precipitation  weight_water blue  \\\n",
       "mean_precipitation             0.063336           0.032031   \n",
       "weight_water blue              0.032031           1.333333   \n",
       "weight_water yellow            0.031271           0.000000   \n",
       "area blue                     -0.000698           0.000000   \n",
       "area yellow                   -0.000649           0.000000   \n",
       "\n",
       "                     weight_water yellow  area blue  area yellow  \n",
       "mean_precipitation              0.031271  -0.000698    -0.000649  \n",
       "weight_water blue               0.000000   0.000000     0.000000  \n",
       "weight_water yellow             1.333333   0.000000     0.000000  \n",
       "area blue                       0.000000   0.000015     0.000000  \n",
       "area yellow                     0.000000   0.000000     0.000015  "
      ]
     },
     "execution_count": 20,
     "metadata": {},
     "output_type": "execute_result"
    }
   ],
   "source": [
    "names = [\"mean_precipitation\", *[f\"weight_water {k}\" for k in weight_water.index], *[f\"area {k}\" for k in area.index]]\n",
    "pd.DataFrame(covariance_matrix([mean_precipitation, *list(weight_water.values), *list(area)]), index=names, columns=names)"
   ]
  },
  {
   "cell_type": "code",
   "execution_count": null,
   "metadata": {},
   "outputs": [],
   "source": []
  }
 ],
 "metadata": {
  "kernelspec": {
   "display_name": "Python 3",
   "language": "python",
   "name": "python3"
  },
  "language_info": {
   "codemirror_mode": {
    "name": "ipython",
    "version": 3
   },
   "file_extension": ".py",
   "mimetype": "text/x-python",
   "name": "python",
   "nbconvert_exporter": "python",
   "pygments_lexer": "ipython3",
   "version": "3.7.5"
  }
 },
 "nbformat": 4,
 "nbformat_minor": 4
}
